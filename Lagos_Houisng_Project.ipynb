{
 "cells": [
  {
   "cell_type": "code",
   "execution_count": 1,
   "metadata": {},
   "outputs": [],
   "source": [
    "import pandas as pd\n",
    "import matplotlib.pyplot as plt\n",
    "import seaborn as sns\n"
   ]
  },
  {
   "cell_type": "code",
   "execution_count": 2,
   "metadata": {},
   "outputs": [],
   "source": [
    "df= pd.read_csv(r'C:\\Users\\ASUS\\OneDrive\\Documents\\python\\property pro\\final data')"
   ]
  },
  {
   "cell_type": "markdown",
   "metadata": {},
   "source": [
    "## Inspecting the Data\n",
    "First, we’ll inspect the data to ensure it's clean and ready for analysis. This will help check for missing values, data types, and if any cleaning is necessary."
   ]
  },
  {
   "cell_type": "code",
   "execution_count": null,
   "metadata": {},
   "outputs": [],
   "source": [
    "df.columns"
   ]
  },
  {
   "cell_type": "code",
   "execution_count": null,
   "metadata": {},
   "outputs": [],
   "source": [
    "# Inspect the data\n",
    "print(df.info())"
   ]
  },
  {
   "cell_type": "code",
   "execution_count": null,
   "metadata": {},
   "outputs": [],
   "source": [
    "# Convert rent prices to millions for easier readability\n",
    "df['avg_rent_2023'] = df['avg_rent_2023'] / 1e6\n",
    "df['avg_rent_2024'] = df['avg_rent_2024'] / 1e6\n",
    "\n",
    "# Display the dataset with updated rent prices\n",
    "print(df[['lga', 'avg_rent_2023', 'avg_rent_2024']].head())\n"
   ]
  },
  {
   "cell_type": "markdown",
   "metadata": {},
   "source": [
    "## Distribution of Rent Prices Across LGAs\n",
    "Let’s visualize how rent prices are distributed across different LGAs for 2023 and 2024 using bar charts."
   ]
  },
  {
   "cell_type": "code",
   "execution_count": null,
   "metadata": {},
   "outputs": [],
   "source": [
    "# Plotting rent distribution for 2023 and 2024\n",
    "plt.figure(figsize=(10, 6))\n",
    "sns.barplot(x='lga', y='avg_rent_2023', data=df, color='blue', label='2023 Rent')\n",
    "sns.barplot(x='lga', y='avg_rent_2024', data=df, color='orange', label='2024 Rent', alpha=0.7)\n",
    "\n",
    "plt.xticks(rotation=90)\n",
    "plt.title('Distribution of Rent Prices Across LGAs in 2023 and 2024 (in Million Naira)')\n",
    "plt.xlabel('LGA')\n",
    "plt.ylabel('Average Rent (Million Naira)')\n",
    "plt.legend()\n",
    "plt.tight_layout()\n",
    "plt.show()\n",
    "\n",
    "\n",
    "#Explanation:\n",
    "#The bar chart compares the average rent across different LGAs for 2023 and 2024. \n",
    "#The height of the bars shows how rent prices vary between LGAs and over time."
   ]
  },
  {
   "cell_type": "markdown",
   "metadata": {},
   "source": [
    "## Correlation Analysis\n",
    "Now, let's check if there is a correlation between rent prices in 2023 and 2024, and other factors like population, density, and the number of businesses."
   ]
  },
  {
   "cell_type": "code",
   "execution_count": null,
   "metadata": {},
   "outputs": [],
   "source": [
    "# Select relevant columns for correlation analysis\n",
    "correlation_columns = ['avg_rent_2023', 'avg_rent_2024', 'Population_2023', '_2023_Density_per_sq_km', \n",
    "                       'Population_2024', '_2024_Density_per_sq_km', 'Number_of_Registered_Businesses_2023', \n",
    "                       'Number_of_Registered_Businesses_2024', 'Unemployment_Rate_2023', 'Unemployment_Rate_2024']\n",
    "\n",
    "# Calculate the correlation matrix\n",
    "corr_matrix = df[correlation_columns].corr()\n",
    "\n",
    "# Plot the heatmap\n",
    "plt.figure(figsize=(12, 8))\n",
    "sns.heatmap(corr_matrix, annot=True, cmap='coolwarm', vmin=-1, vmax=1)\n",
    "plt.title('Correlation Matrix between Rent Prices and Other Factors')\n",
    "plt.tight_layout()\n",
    "plt.show()\n",
    "\n",
    "\n",
    "#Explanation:\n",
    "#This heatmap shows the correlation between rent prices, population, density, unemployment rates, and the number of businesses for both 2023 and 2024.\n",
    "#A correlation coefficient near 1 means a strong positive relationship, and near -1 indicates a negative relationship. Values near 0 suggest no significant relationship."
   ]
  },
  {
   "cell_type": "markdown",
   "metadata": {},
   "source": [
    "## Comparing Rent Prices Over Time\n",
    "We can visualize how rent prices have changed between 2023 and 2024 across LGAs."
   ]
  },
  {
   "cell_type": "code",
   "execution_count": null,
   "metadata": {},
   "outputs": [],
   "source": [
    "# Calculate the percentage change in rent prices between 2023 and 2024\n",
    "df['rent_change_%'] = ((df['avg_rent_2024'] - df['avg_rent_2023']) / df['avg_rent_2023']) * 100\n",
    "\n",
    "# Plot the percentage change\n",
    "plt.figure(figsize=(10, 6))\n",
    "sns.barplot(x='lga', y='rent_change_%', data=df, palette='coolwarm')\n",
    "plt.xticks(rotation=90)\n",
    "plt.title('Percentage Change in Rent Prices from 2023 to 2024')\n",
    "plt.ylabel('Percentage Change (%)')\n",
    "plt.tight_layout()\n",
    "plt.show()\n",
    "\n",
    "#Explanation:\n",
    "#This bar chart shows the percentage change in rent prices for each LGA from 2023 to 2024. \n",
    "# A positive percentage means rent has increased, while a negative percentage means rent has decreased."
   ]
  },
  {
   "cell_type": "markdown",
   "metadata": {},
   "source": [
    "## Checking for Factors Influencing Rent\n",
    "To understand if other factors (like population, density, and businesses) affect rent prices, we can run a basic regression analysis."
   ]
  },
  {
   "cell_type": "code",
   "execution_count": null,
   "metadata": {},
   "outputs": [],
   "source": [
    "import statsmodels.api as sm\n",
    "\n",
    "# Select independent variables and dependent variable (avg_rent_2024)\n",
    "X = df[['Population_2024', '_2024_Density_per_sq_km', 'Number_of_Registered_Businesses_2024', 'Unemployment_Rate_2024']]\n",
    "y = df['avg_rent_2024']\n",
    "\n",
    "# Add a constant to the independent variables\n",
    "X = sm.add_constant(X)\n",
    "\n",
    "# Fit the regression model\n",
    "model = sm.OLS(y, X).fit()\n",
    "\n",
    "# Print the summary of the regression model\n",
    "print(model.summary())\n"
   ]
  },
  {
   "cell_type": "markdown",
   "metadata": {},
   "source": [
    "## Analyze Rent Prices by Apartment Type\n",
    "We can group the rent prices by apartment type (1-bedroom, 2-bedroom, 3-bedroom) to compare how prices vary for different apartment sizes across the LGAs."
   ]
  },
  {
   "cell_type": "code",
   "execution_count": null,
   "metadata": {},
   "outputs": [],
   "source": [
    "# Grouping the data by LGA and Apartment Type\n",
    "rent_by_apartment_type = df.groupby(['lga', 'Apartment_Rooms'])[['avg_rent_2023', 'avg_rent_2024']].mean().reset_index()\n",
    "\n",
    "# Plotting rent distribution by Apartment Type for 2024\n",
    "plt.figure(figsize=(12, 6))\n",
    "sns.barplot(x='lga', y='avg_rent_2024', hue='Apartment_Rooms', data=rent_by_apartment_type, palette='Set2')\n",
    "\n",
    "plt.xticks(rotation=90)\n",
    "plt.title('Average Rent by Apartment Type and LGA for 2024 (in Million Naira)')\n",
    "plt.xlabel('LGA')\n",
    "plt.ylabel('Average Rent (Million Naira)')\n",
    "plt.legend(title='Apartment Type', loc='upper right')\n",
    "plt.tight_layout()\n",
    "plt.show()\n",
    "\n",
    "#   Explanation:\n",
    "#   This bar chart will show how rent prices differ for 1-bedroom, 2-bedroom, and 3-bedroom apartments across different LGAs for 2024.\n",
    "#   You can easily compare which LGAs have more expensive rent for larger apartments."
   ]
  },
  {
   "cell_type": "markdown",
   "metadata": {},
   "source": [
    "## Analyzing Correlations by Apartment Type\n",
    "You can also check if there's a correlation between apartment type and rent prices, population, or other variables."
   ]
  },
  {
   "cell_type": "code",
   "execution_count": null,
   "metadata": {},
   "outputs": [],
   "source": [
    "# Add Apartment Type into the correlation analysis\n",
    "correlation_columns = ['avg_rent_2023', 'avg_rent_2024', 'Population_2023', '_2023_Density_per_sq_km', \n",
    "                       'Population_2024', '_2024_Density_per_sq_km', 'Number_of_Registered_Businesses_2023', \n",
    "                       'Number_of_Registered_Businesses_2024', 'Unemployment_Rate_2023', 'Unemployment_Rate_2024', 'Apartment_Rooms']\n",
    "\n",
    "# Correlation matrix with Apartment Type included\n",
    "corr_matrix = df[correlation_columns].corr()\n",
    "\n",
    "# Plot the heatmap\n",
    "plt.figure(figsize=(12, 8))\n",
    "sns.heatmap(corr_matrix, annot=True, cmap='coolwarm', vmin=-1, vmax=1)\n",
    "plt.title('Correlation Matrix including Apartment Type')\n",
    "plt.tight_layout()\n",
    "plt.show()\n",
    "\n",
    "#Explanation:\n",
    "# This correlation heatmap will show how Apartment Type (number of rooms) correlates with other variables like rent prices, population, and density.\n",
    "# A positive correlation with rent means that larger apartments tend to have higher rent prices.\n"
   ]
  },
  {
   "cell_type": "markdown",
   "metadata": {},
   "source": [
    "## Regression Analysis Including Apartment Type\n",
    "If you want to assess how apartment size affects rent along with other variables, you can include Apartment_Rooms in a regression analysis."
   ]
  },
  {
   "cell_type": "code",
   "execution_count": null,
   "metadata": {},
   "outputs": [],
   "source": [
    "# Regression analysis including Apartment Type\n",
    "X = df[['Population_2024', '_2024_Density_per_sq_km', 'Number_of_Registered_Businesses_2024', 'Unemployment_Rate_2024', 'Apartment_Rooms']]\n",
    "y = df['avg_rent_2024']\n",
    "\n",
    "# Add a constant to the independent variables\n",
    "X = sm.add_constant(X)\n",
    "\n",
    "# Fit the regression model\n",
    "model = sm.OLS(y, X).fit()\n",
    "\n",
    "# Print the summary of the regression model\n",
    "print(model.summary())\n",
    "\n",
    "\n",
    "#Explanation:\n",
    "# This will show if the number of rooms (apartment type) significantly affects rent prices, along with population, density, and the number of businesses in the LGA.\n",
    "# Look at the p-values and coefficients to see if Apartment_Rooms has a statistically significant impact on rent."
   ]
  },
  {
   "cell_type": "markdown",
   "metadata": {},
   "source": [
    "## Visualizing Rent Distribution by Apartment Size\n",
    "Lastly, you can create a distribution plot to visualize how rent prices are spread across different apartment sizes."
   ]
  },
  {
   "cell_type": "code",
   "execution_count": null,
   "metadata": {},
   "outputs": [],
   "source": [
    "# Visualizing rent distribution by apartment type\n",
    "plt.figure(figsize=(10, 6))\n",
    "sns.histplot(df, x='avg_rent_2024', hue='Apartment_Rooms', multiple='stack', palette='Set1', bins=20)\n",
    "\n",
    "plt.title('Distribution of Rent Prices by Apartment Type for 2024')\n",
    "plt.xlabel('Rent Price (Million Naira)')\n",
    "plt.ylabel('Count of Apartments')\n",
    "plt.tight_layout()\n",
    "plt.show()\n",
    "\n",
    "\n",
    "# Explanation::\n",
    "# This histogram will display how rent prices vary across different apartment types.\n",
    "#  It helps understand if certain apartment sizes have a broader or narrower range of rent prices."
   ]
  }
 ],
 "metadata": {
  "kernelspec": {
   "display_name": "base",
   "language": "python",
   "name": "python3"
  },
  "language_info": {
   "codemirror_mode": {
    "name": "ipython",
    "version": 3
   },
   "file_extension": ".py",
   "mimetype": "text/x-python",
   "name": "python",
   "nbconvert_exporter": "python",
   "pygments_lexer": "ipython3",
   "version": "3.12.4"
  }
 },
 "nbformat": 4,
 "nbformat_minor": 2
}
