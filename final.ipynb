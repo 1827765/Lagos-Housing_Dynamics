{
 "cells": [
  {
   "cell_type": "code",
   "execution_count": 1,
   "metadata": {},
   "outputs": [],
   "source": [
    "import polars as pl\n",
    "import matplotlib.pyplot as plt\n",
    "import seaborn as sns\n",
    "from sklearn.linear_model import LinearRegression\n",
    "from sklearn.model_selection import train_test_split\n",
    "from matplotlib.ticker import FuncFormatter\n",
    "import numpy as np\n"
   ]
  },
  {
   "cell_type": "code",
   "execution_count": 2,
   "metadata": {},
   "outputs": [],
   "source": [
    "df= pl.read_csv(r\"C:\\Users\\ASUS\\OneDrive\\Documents\\python\\property pro\\lagos_housing_and_dynamics.csv\")"
   ]
  },
  {
   "cell_type": "code",
   "execution_count": 3,
   "metadata": {},
   "outputs": [
    {
     "data": {
      "text/html": [
       "<div><style>\n",
       ".dataframe > thead > tr,\n",
       ".dataframe > tbody > tr {\n",
       "  text-align: right;\n",
       "  white-space: pre-wrap;\n",
       "}\n",
       "</style>\n",
       "<small>shape: (82, 12)</small><table border=\"1\" class=\"dataframe\"><thead><tr><th>lga</th><th>Population_2024</th><th>_2024_Density_per_sq_km</th><th>Number_of_Registered_Businesses_2024</th><th>Unemployment_Rate_2024</th><th>avg_rent_2024</th><th>Apartment_Rooms</th><th>Population_2023</th><th>_2023_Density_per_sq_km</th><th>Number_of_Registered_Businesses_2023</th><th>Unemployment_Rate_2023</th><th>avg_rent_2023</th></tr><tr><td>str</td><td>str</td><td>str</td><td>str</td><td>str</td><td>i64</td><td>i64</td><td>str</td><td>str</td><td>str</td><td>str</td><td>str</td></tr></thead><tbody><tr><td>&quot;Amuwo-Odofin&quot;</td><td>&quot;904491&quot;</td><td>&quot;NULL&quot;</td><td>&quot;NULL&quot;</td><td>&quot;5.28&quot;</td><td>3133333</td><td>2</td><td>&quot;895536&quot;</td><td>&quot;NULL&quot;</td><td>&quot;NULL&quot;</td><td>&quot;5.35&quot;</td><td>&quot;NULL&quot;</td></tr><tr><td>&quot;Amuwo-Odofin&quot;</td><td>&quot;904491&quot;</td><td>&quot;NULL&quot;</td><td>&quot;NULL&quot;</td><td>&quot;5.28&quot;</td><td>3200000</td><td>3</td><td>&quot;895536&quot;</td><td>&quot;NULL&quot;</td><td>&quot;NULL&quot;</td><td>&quot;5.35&quot;</td><td>&quot;NULL&quot;</td></tr><tr><td>&quot;Eti-Osa&quot;</td><td>&quot;1669037&quot;</td><td>&quot;3300&quot;</td><td>&quot;432&quot;</td><td>&quot;5.13&quot;</td><td>3270833</td><td>1</td><td>&quot;1652512&quot;</td><td>&quot;3796&quot;</td><td>&quot;383&quot;</td><td>&quot;5.20&quot;</td><td>&quot;1160000&quot;</td></tr><tr><td>&quot;Eti-Osa&quot;</td><td>&quot;1669037&quot;</td><td>&quot;3300&quot;</td><td>&quot;432&quot;</td><td>&quot;5.13&quot;</td><td>5490983</td><td>2</td><td>&quot;1652512&quot;</td><td>&quot;3796&quot;</td><td>&quot;383&quot;</td><td>&quot;5.20&quot;</td><td>&quot;1160000&quot;</td></tr><tr><td>&quot;Eti-Osa&quot;</td><td>&quot;1669037&quot;</td><td>&quot;3300&quot;</td><td>&quot;432&quot;</td><td>&quot;5.13&quot;</td><td>3270833</td><td>1</td><td>&quot;1652512&quot;</td><td>&quot;3796&quot;</td><td>&quot;383&quot;</td><td>&quot;5.20&quot;</td><td>&quot;4700000&quot;</td></tr><tr><td>&hellip;</td><td>&hellip;</td><td>&hellip;</td><td>&hellip;</td><td>&hellip;</td><td>&hellip;</td><td>&hellip;</td><td>&hellip;</td><td>&hellip;</td><td>&hellip;</td><td>&hellip;</td><td>&hellip;</td></tr><tr><td>&quot;Surulere&quot;</td><td>&quot;2030582&quot;</td><td>&quot;76830&quot;</td><td>&quot;698&quot;</td><td>&quot;4.96&quot;</td><td>4444444</td><td>3</td><td>&quot;2010477&quot;</td><td>&quot;75580&quot;</td><td>&quot;618&quot;</td><td>&quot;5.03&quot;</td><td>&quot;600000&quot;</td></tr><tr><td>&quot;Surulere&quot;</td><td>&quot;2030582&quot;</td><td>&quot;76830&quot;</td><td>&quot;698&quot;</td><td>&quot;4.96&quot;</td><td>4444444</td><td>3</td><td>&quot;2010477&quot;</td><td>&quot;75580&quot;</td><td>&quot;618&quot;</td><td>&quot;5.03&quot;</td><td>&quot;2000000&quot;</td></tr><tr><td>&quot;Yaba&quot;</td><td>&quot;NULL&quot;</td><td>&quot;NULL&quot;</td><td>&quot;NULL&quot;</td><td>&quot;NULL&quot;</td><td>1396666</td><td>1</td><td>&quot;NULL&quot;</td><td>&quot;NULL&quot;</td><td>&quot;NULL&quot;</td><td>&quot;NULL&quot;</td><td>&quot;NULL&quot;</td></tr><tr><td>&quot;Yaba&quot;</td><td>&quot;NULL&quot;</td><td>&quot;NULL&quot;</td><td>&quot;NULL&quot;</td><td>&quot;NULL&quot;</td><td>4925000</td><td>3</td><td>&quot;NULL&quot;</td><td>&quot;NULL&quot;</td><td>&quot;NULL&quot;</td><td>&quot;NULL&quot;</td><td>&quot;NULL&quot;</td></tr><tr><td>&quot;Yaba&quot;</td><td>&quot;NULL&quot;</td><td>&quot;NULL&quot;</td><td>&quot;NULL&quot;</td><td>&quot;NULL&quot;</td><td>3000000</td><td>2</td><td>&quot;NULL&quot;</td><td>&quot;NULL&quot;</td><td>&quot;NULL&quot;</td><td>&quot;NULL&quot;</td><td>&quot;NULL&quot;</td></tr></tbody></table></div>"
      ],
      "text/plain": [
       "shape: (82, 12)\n",
       "┌───────────┬───────────┬───────────┬───────────┬───┬───────────┬───────────┬───────────┬──────────┐\n",
       "│ lga       ┆ Populatio ┆ _2024_Den ┆ Number_of ┆ … ┆ _2023_Den ┆ Number_of ┆ Unemploym ┆ avg_rent │\n",
       "│ ---       ┆ n_2024    ┆ sity_per_ ┆ _Register ┆   ┆ sity_per_ ┆ _Register ┆ ent_Rate_ ┆ _2023    │\n",
       "│ str       ┆ ---       ┆ sq_km     ┆ ed_Busine ┆   ┆ sq_km     ┆ ed_Busine ┆ 2023      ┆ ---      │\n",
       "│           ┆ str       ┆ ---       ┆ sse…      ┆   ┆ ---       ┆ sse…      ┆ ---       ┆ str      │\n",
       "│           ┆           ┆ str       ┆ ---       ┆   ┆ str       ┆ ---       ┆ str       ┆          │\n",
       "│           ┆           ┆           ┆ str       ┆   ┆           ┆ str       ┆           ┆          │\n",
       "╞═══════════╪═══════════╪═══════════╪═══════════╪═══╪═══════════╪═══════════╪═══════════╪══════════╡\n",
       "│ Amuwo-Odo ┆ 904491    ┆ NULL      ┆ NULL      ┆ … ┆ NULL      ┆ NULL      ┆ 5.35      ┆ NULL     │\n",
       "│ fin       ┆           ┆           ┆           ┆   ┆           ┆           ┆           ┆          │\n",
       "│ Amuwo-Odo ┆ 904491    ┆ NULL      ┆ NULL      ┆ … ┆ NULL      ┆ NULL      ┆ 5.35      ┆ NULL     │\n",
       "│ fin       ┆           ┆           ┆           ┆   ┆           ┆           ┆           ┆          │\n",
       "│ Eti-Osa   ┆ 1669037   ┆ 3300      ┆ 432       ┆ … ┆ 3796      ┆ 383       ┆ 5.20      ┆ 1160000  │\n",
       "│ Eti-Osa   ┆ 1669037   ┆ 3300      ┆ 432       ┆ … ┆ 3796      ┆ 383       ┆ 5.20      ┆ 1160000  │\n",
       "│ Eti-Osa   ┆ 1669037   ┆ 3300      ┆ 432       ┆ … ┆ 3796      ┆ 383       ┆ 5.20      ┆ 4700000  │\n",
       "│ …         ┆ …         ┆ …         ┆ …         ┆ … ┆ …         ┆ …         ┆ …         ┆ …        │\n",
       "│ Surulere  ┆ 2030582   ┆ 76830     ┆ 698       ┆ … ┆ 75580     ┆ 618       ┆ 5.03      ┆ 600000   │\n",
       "│ Surulere  ┆ 2030582   ┆ 76830     ┆ 698       ┆ … ┆ 75580     ┆ 618       ┆ 5.03      ┆ 2000000  │\n",
       "│ Yaba      ┆ NULL      ┆ NULL      ┆ NULL      ┆ … ┆ NULL      ┆ NULL      ┆ NULL      ┆ NULL     │\n",
       "│ Yaba      ┆ NULL      ┆ NULL      ┆ NULL      ┆ … ┆ NULL      ┆ NULL      ┆ NULL      ┆ NULL     │\n",
       "│ Yaba      ┆ NULL      ┆ NULL      ┆ NULL      ┆ … ┆ NULL      ┆ NULL      ┆ NULL      ┆ NULL     │\n",
       "└───────────┴───────────┴───────────┴───────────┴───┴───────────┴───────────┴───────────┴──────────┘"
      ]
     },
     "execution_count": 3,
     "metadata": {},
     "output_type": "execute_result"
    }
   ],
   "source": [
    "df"
   ]
  },
  {
   "cell_type": "code",
   "execution_count": 10,
   "metadata": {},
   "outputs": [],
   "source": [
    "df = df.filter(pl.col('_2024_Density_per_sq_km') != 'NULL')"
   ]
  },
  {
   "cell_type": "code",
   "execution_count": 35,
   "metadata": {},
   "outputs": [],
   "source": [
    "df.write_csv('final data')"
   ]
  },
  {
   "cell_type": "code",
   "execution_count": 11,
   "metadata": {},
   "outputs": [],
   "source": [
    "df= df.with_columns(\n",
    "    [\n",
    "     pl.col('Population_2024').cast(pl.Int64),\n",
    "     pl.col('_2024_Density_per_sq_km').cast(pl.Int64),\n",
    "     pl.col('Number_of_Registered_Businesses_2024').cast(pl.Int64),\n",
    "    pl.col('Unemployment_Rate_2024').cast(pl.Float64),\n",
    "    pl.col('Population_2023').cast(pl.Int64),\n",
    "     pl.col('_2023_Density_per_sq_km').cast(pl.Int64),\n",
    " pl.col('Number_of_Registered_Businesses_2023').cast(pl.Int64),\n",
    " pl.col('Unemployment_Rate_2023').cast(pl.Float64),\n",
    " pl.col('avg_rent_2023').cast(pl.Int64),\n",
    " pl.col('Apartment_Rooms').cast(pl.Int64)\n",
    "\n",
    "\n",
    "\n",
    "])"
   ]
  },
  {
   "cell_type": "code",
   "execution_count": 36,
   "metadata": {},
   "outputs": [
    {
     "data": {
      "text/plain": [
       "Schema([('lga', String),\n",
       "        ('Population_2024', Int64),\n",
       "        ('_2024_Density_per_sq_km', Int64),\n",
       "        ('Number_of_Registered_Businesses_2024', Int64),\n",
       "        ('Unemployment_Rate_2024', Float64),\n",
       "        ('avg_rent_2024', Int64),\n",
       "        ('Apartment_Rooms', Int64),\n",
       "        ('Population_2023', Int64),\n",
       "        ('_2023_Density_per_sq_km', Int64),\n",
       "        ('Number_of_Registered_Businesses_2023', Int64),\n",
       "        ('Unemployment_Rate_2023', Float64),\n",
       "        ('avg_rent_2023', Int64)])"
      ]
     },
     "execution_count": 36,
     "metadata": {},
     "output_type": "execute_result"
    }
   ],
   "source": [
    "df.schema"
   ]
  },
  {
   "cell_type": "code",
   "execution_count": null,
   "metadata": {},
   "outputs": [],
   "source": []
  }
 ],
 "metadata": {
  "kernelspec": {
   "display_name": "base",
   "language": "python",
   "name": "python3"
  },
  "language_info": {
   "codemirror_mode": {
    "name": "ipython",
    "version": 3
   },
   "file_extension": ".py",
   "mimetype": "text/x-python",
   "name": "python",
   "nbconvert_exporter": "python",
   "pygments_lexer": "ipython3",
   "version": "3.12.4"
  }
 },
 "nbformat": 4,
 "nbformat_minor": 2
}
